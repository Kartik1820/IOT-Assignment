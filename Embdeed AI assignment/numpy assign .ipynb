{
 "cells": [
  {
   "cell_type": "code",
   "execution_count": 1,
   "id": "531e6c43-9fb1-47e5-a1e5-f805f07d7b06",
   "metadata": {},
   "outputs": [],
   "source": [
    "import numpy as np "
   ]
  },
  {
   "cell_type": "code",
   "execution_count": 3,
   "id": "a51f207d-524b-47c1-a3b3-46ec7100b9fb",
   "metadata": {},
   "outputs": [
    {
     "name": "stdout",
     "output_type": "stream",
     "text": [
      "[  1   7  13 105]\n",
      "Type =<class 'numpy.ndarray'>\n"
     ]
    }
   ],
   "source": [
    "n1=np.array([1,7,13,105])\n",
    "print(n1)\n",
    "print(f\"Type ={type(n1)}\")"
   ]
  },
  {
   "cell_type": "code",
   "execution_count": 10,
   "id": "c80b4bdb-ce2f-4cb6-b3a7-cf416d3034b8",
   "metadata": {},
   "outputs": [
    {
     "name": "stdout",
     "output_type": "stream",
     "text": [
      "Original Num :\n",
      "[4 8]\n",
      "[2 8]\n",
      "Comparison - greater :\n",
      "[ True False]\n",
      "Comparison -greater equal\n",
      "[ True  True]\n",
      "Comparison -less :\n",
      "[False False]\n",
      "Comparison -less equal\n",
      "[False  True]\n"
     ]
    }
   ],
   "source": [
    "#Q2\n",
    "n1=np.array([4,8])\n",
    "n2=np.array([2,8])\n",
    "print(\"Original Num :\")\n",
    "print(n1)\n",
    "print(n2)\n",
    "print(\"Comparison - greater :\")\n",
    "print(np.greater(n1,n2))\n",
    "print(\"Comparison -greater equal\")\n",
    "print(np.greater_equal(n1,n2))\n",
    "print(\"Comparison -less :\")\n",
    "print(np.less(n1,n2))\n",
    "print(\"Comparison -less equal\")\n",
    "print(np.less_equal(n1,n2))"
   ]
  },
  {
   "cell_type": "code",
   "execution_count": 28,
   "id": "f0080cfb-6993-4e70-9469-a33387018116",
   "metadata": {},
   "outputs": [
    {
     "name": "stdout",
     "output_type": "stream",
     "text": [
      "[50. 50. 50. 50. 50. 50. 50. 50. 50. 50.]\n",
      "[20. 20. 20. 20. 20. 20. 20. 20. 20. 20.]\n",
      "[5. 5. 5. 5. 5. 5. 5. 5. 5. 5.]\n",
      "[1. 1. 1. 1. 1. 1. 1. 1. 1. 1.]\n",
      "[0. 0. 0. 0. 0. 0. 0. 0. 0. 0.]\n"
     ]
    }
   ],
   "source": [
    "#Q3\n",
    "n1=np.zeros(10)\n",
    "n2=np.ones(10)\n",
    "n3=np.ones(10)*5\n",
    "n4=np.ones(10)*20\n",
    "n5=np.ones(10)*50\n",
    "print(n5)\n",
    "print(n4)\n",
    "print(n3)\n",
    "print(n2)\n",
    "print(n1)"
   ]
  },
  {
   "cell_type": "code",
   "execution_count": 30,
   "id": "d5dea72e-530f-4635-80b3-5d812a174046",
   "metadata": {},
   "outputs": [
    {
     "name": "stdout",
     "output_type": "stream",
     "text": [
      "[30 31 32 33 34 35 36 37 38 39 40 41 42 43 44 45 46 47 48 49 50 51 52 53\n",
      " 54 55 56 57 58 59 60 61 62 63 64 65 66 67 68 69]\n"
     ]
    }
   ],
   "source": [
    "#Q4\n",
    "n1=np.arange(30,70)\n",
    "print(n1)"
   ]
  },
  {
   "cell_type": "code",
   "execution_count": 32,
   "id": "c1c478cc-cc18-4067-83cc-82eecec80426",
   "metadata": {},
   "outputs": [
    {
     "name": "stdout",
     "output_type": "stream",
     "text": [
      "[50 51 52 53 54 55 56 57 58 59 60 61 62 63 64 65 66 67 68 69 70 71 72 73\n",
      " 74 75 76 77 78 79 80 81 82 83 84 85 86 87 88 89 90 91 92 93 94 95]\n"
     ]
    }
   ],
   "source": [
    "#Q5\n",
    "n1=np.arange(50,96)\n",
    "print(n1)"
   ]
  },
  {
   "cell_type": "code",
   "execution_count": 33,
   "id": "b1534e78-a18c-449f-8851-942c7e12cd60",
   "metadata": {},
   "outputs": [
    {
     "name": "stdout",
     "output_type": "stream",
     "text": [
      "[20 22 24 26 28 30 32 34 36 38 40 42 44 46 48 50 52 54 56 58 60 62 64 66\n",
      " 68 70 72 74 76 78]\n"
     ]
    }
   ],
   "source": [
    "#Q6\n",
    "n1=np.arange(20,80,2)\n",
    "print(n1)"
   ]
  },
  {
   "cell_type": "code",
   "execution_count": 34,
   "id": "5d149b8a-7a9d-46cc-a944-93a2e8226ca8",
   "metadata": {},
   "outputs": [
    {
     "name": "stdout",
     "output_type": "stream",
     "text": [
      "[20 23 26 29 32 35 38 41 44 47 50 53 56 59 62 65 68 71 74 77]\n"
     ]
    }
   ],
   "source": [
    "#Q7\n",
    "n1=np.arange(20,80,3)\n",
    "print(n1)"
   ]
  },
  {
   "cell_type": "code",
   "execution_count": 39,
   "id": "263a365a-dbb4-4f66-be7e-02faffa1ec31",
   "metadata": {},
   "outputs": [
    {
     "name": "stdout",
     "output_type": "stream",
     "text": [
      "[37 31 36 13 10 19 10 21 26 17 16 14 21 39 27]\n"
     ]
    }
   ],
   "source": [
    "#Q8\n",
    "n1=np.random.randint(10,40,15)\n",
    "print(n1)"
   ]
  },
  {
   "cell_type": "code",
   "execution_count": 40,
   "id": "1cecfad5-8f74-4c13-aa85-a34a262c9bf6",
   "metadata": {},
   "outputs": [
    {
     "name": "stdout",
     "output_type": "stream",
     "text": [
      "[49 47 35 49 41 36 33 38 38 34]\n"
     ]
    }
   ],
   "source": [
    "#Q9\n",
    "n1=np.random.randint(30,50,10)\n",
    "print(n1)"
   ]
  },
  {
   "cell_type": "code",
   "execution_count": 41,
   "id": "f470790a-f8ac-48bb-a58c-1265947f97a5",
   "metadata": {},
   "outputs": [
    {
     "name": "stdout",
     "output_type": "stream",
     "text": [
      "[52 71 61 57 66 80 80 83 59 54 86 72 78 76 72 73 51 84 86 83]\n"
     ]
    }
   ],
   "source": [
    "#Q10\n",
    "n1=np.random.randint(50,90,20)\n",
    "print(n1)"
   ]
  },
  {
   "cell_type": "code",
   "execution_count": 47,
   "id": "29b21fa4-7e4c-4608-8cca-e113b061a257",
   "metadata": {},
   "outputs": [
    {
     "name": "stdout",
     "output_type": "stream",
     "text": [
      "Addition :\n",
      "[21 42 63 84]\n",
      "Subtraction :\n",
      "[1 2 3 4]\n",
      "Multiplication:\n",
      "[ 110  440  990 1760]\n",
      "Division :\n",
      "[1.1 1.1 1.1 1.1]\n"
     ]
    }
   ],
   "source": [
    "#Q11\n",
    "n1=np.array([10,20,30,40])\n",
    "n2=np.array([11,22,33,44])\n",
    "print(\"Addition :\")\n",
    "print(n1+n2)\n",
    "print(\"Subtraction :\")\n",
    "print(n2-n1)\n",
    "print(\"Multiplication:\")\n",
    "print(n1*n2)\n",
    "print(\"Division :\")\n",
    "print(n2/n1)\n"
   ]
  },
  {
   "cell_type": "code",
   "execution_count": 48,
   "id": "8734edb8-33b4-4422-9ec5-2d428b29e5b2",
   "metadata": {},
   "outputs": [
    {
     "name": "stdout",
     "output_type": "stream",
     "text": [
      "[[10 11 12 13]\n",
      " [14 15 16 17]\n",
      " [18 19 20 21]]\n"
     ]
    }
   ],
   "source": [
    "#Q12\n",
    "n1=np.arange(10,22).reshape((3,4))\n",
    "print(n1)\n"
   ]
  },
  {
   "cell_type": "code",
   "execution_count": 50,
   "id": "ff1b84be-ee95-4f60-9304-9470552b3c99",
   "metadata": {},
   "outputs": [
    {
     "name": "stdout",
     "output_type": "stream",
     "text": [
      "[[1. 0. 0.]\n",
      " [0. 1. 0.]\n",
      " [0. 0. 1.]]\n"
     ]
    }
   ],
   "source": [
    "#Q13\n",
    "# eye function to create a 2 dimensional \n",
    "n1=np.eye(3)\n",
    "print(n1)"
   ]
  },
  {
   "cell_type": "code",
   "execution_count": 69,
   "id": "fb4c148a-188b-47fb-b051-bf8c51d7eb7d",
   "metadata": {},
   "outputs": [
    {
     "name": "stdout",
     "output_type": "stream",
     "text": [
      "Original :\n",
      "[[ 1  2  3  4]\n",
      " [ 5  6  7  8]\n",
      " [ 9 10 11 12]]\n",
      "NUmber of Rows and Columns :\n",
      "(3, 4)\n"
     ]
    }
   ],
   "source": [
    "#Q14\n",
    "n1=np.arange(1,13).reshape((3,4))\n",
    "print(\"Original :\")\n",
    "print(n1)\n",
    "print(\"NUmber of Rows and Columns :\")\n",
    "print(n1.shape)"
   ]
  },
  {
   "cell_type": "code",
   "execution_count": 64,
   "id": "4be4cf9b-33a5-422f-8601-64e24da91f79",
   "metadata": {},
   "outputs": [
    {
     "name": "stdout",
     "output_type": "stream",
     "text": [
      "[[1 0 0 0 0]\n",
      " [0 2 0 0 0]\n",
      " [0 0 3 0 0]\n",
      " [0 0 0 4 0]\n",
      " [0 0 0 0 5]]\n"
     ]
    }
   ],
   "source": [
    "#Q15\n",
    "#daig function to print diagonal values\n",
    "n1=np.diag([1,2,3,4,5])\n",
    "print(n1)"
   ]
  },
  {
   "cell_type": "code",
   "execution_count": 70,
   "id": "f081986b-d21d-467f-92e2-1a3040ff5d61",
   "metadata": {},
   "outputs": [
    {
     "name": "stdout",
     "output_type": "stream",
     "text": [
      "[[[0.02753321 0.26050723 0.34278919]\n",
      "  [0.14691838 0.28734241 0.96574271]\n",
      "  [0.82485584 0.38150477 0.60627103]]\n",
      "\n",
      " [[0.13480142 0.88502123 0.41762492]\n",
      "  [0.70106543 0.00866602 0.02085954]\n",
      "  [0.10596713 0.09229156 0.03341773]]\n",
      "\n",
      " [[0.70436763 0.95486646 0.40361444]\n",
      "  [0.70564345 0.78450059 0.59259174]\n",
      "  [0.16143475 0.21329913 0.35026243]]]\n"
     ]
    }
   ],
   "source": [
    "#Q16\n",
    "n1=np.random.random((3,3,3))\n",
    "print(n1)"
   ]
  },
  {
   "cell_type": "code",
   "execution_count": 71,
   "id": "ee038ef4-235f-4827-a631-00fa6dd1109f",
   "metadata": {},
   "outputs": [
    {
     "name": "stdout",
     "output_type": "stream",
     "text": [
      "[[[0.40546636 0.52371681 0.93728539 0.82245068]\n",
      "  [0.55122726 0.84133686 0.72707966 0.72980914]\n",
      "  [0.43047949 0.41634433 0.02234826 0.68921227]]\n",
      "\n",
      " [[0.84982755 0.88544876 0.48326475 0.53604668]\n",
      "  [0.01522437 0.07435071 0.64852134 0.42600628]\n",
      "  [0.55394524 0.96131646 0.65895119 0.84043215]]]\n"
     ]
    }
   ],
   "source": [
    "#Q17\n",
    "n1=np.random.random((2,3,4))\n",
    "print(n1)"
   ]
  },
  {
   "cell_type": "code",
   "execution_count": 72,
   "id": "312e06fa-f043-4690-92d7-2670b8fa84d2",
   "metadata": {},
   "outputs": [
    {
     "name": "stdout",
     "output_type": "stream",
     "text": [
      "Orignal list :\n",
      "[10, 20, 30, 40, 50]\n",
      "One dimesion :\n",
      "[10 20 30 40 50]\n"
     ]
    }
   ],
   "source": [
    "#Q18\n",
    "n1=[10,20,30,40,50]\n",
    "print(\"Orignal list :\")\n",
    "print(n1)\n",
    "n2=np.array(n1)\n",
    "print(\"One dimesion :\")\n",
    "print(n2)"
   ]
  },
  {
   "cell_type": "code",
   "execution_count": 73,
   "id": "2412cc83-35cf-4d69-95da-44216b3b0f2f",
   "metadata": {},
   "outputs": [
    {
     "name": "stdout",
     "output_type": "stream",
     "text": [
      "[[ 2  3  4]\n",
      " [ 5  6  7]\n",
      " [ 8  9 10]]\n"
     ]
    }
   ],
   "source": [
    "#Q19\n",
    "n1=np.arange(2,11).reshape((3,3))\n",
    "print(n1)"
   ]
  },
  {
   "cell_type": "code",
   "execution_count": 74,
   "id": "cc2538fa-613f-4749-bbba-304c9f2f764d",
   "metadata": {},
   "outputs": [
    {
     "name": "stdout",
     "output_type": "stream",
     "text": [
      "[12 13 14 15 16 17 18 19 20 21 22 23 24 25 26 27 28 29 30 31 32 33 34 35\n",
      " 36 37 38]\n"
     ]
    }
   ],
   "source": [
    "#Q20\n",
    "n1=np.arange(12,39)\n",
    "print(n1)"
   ]
  },
  {
   "cell_type": "code",
   "execution_count": 80,
   "id": "7d8e5de3-e31c-46bf-87e5-2981099f0643",
   "metadata": {},
   "outputs": [
    {
     "name": "stdout",
     "output_type": "stream",
     "text": [
      "Original :\n",
      "[10 20 30 40 50]\n",
      "Reverse :\n",
      "[50 40 30 20 10]\n"
     ]
    }
   ],
   "source": [
    "#Q21\n",
    "n1=np.array([10,20,30,40,50])\n",
    "print(\"Original :\")\n",
    "print(n1)\n",
    "#To reverse \"flip\" function is used !\n",
    "n2=np.flip(n1)\n",
    "print(\"Reverse :\")\n",
    "print(n2)"
   ]
  },
  {
   "cell_type": "code",
   "execution_count": 85,
   "id": "8b56bb7c-dc62-481a-b1c1-90586872a34e",
   "metadata": {},
   "outputs": [
    {
     "name": "stdout",
     "output_type": "stream",
     "text": [
      "[10 20 30 40 50]\n",
      "[10. 20. 30. 40. 50.]\n"
     ]
    }
   ],
   "source": [
    "#Q22\n",
    "n1=np.array([10,20,30,40,50])\n",
    "print(n1)\n",
    "n2=np.asfarray(n1)\n",
    "print(n2)"
   ]
  },
  {
   "cell_type": "code",
   "execution_count": 88,
   "id": "bc504c14-a234-4d71-b325-4de1f6567f28",
   "metadata": {},
   "outputs": [
    {
     "name": "stdout",
     "output_type": "stream",
     "text": [
      "[10, 20, 30, 40, 50, 60]\n",
      "[10 20 30 40 50 60]\n"
     ]
    }
   ],
   "source": [
    "#Q23\n",
    "n1=[10,20,30,40,50,60]\n",
    "print(n1)\n",
    "n2=np.array(n1)\n",
    "print(n2)"
   ]
  },
  {
   "cell_type": "code",
   "execution_count": 92,
   "id": "99bdbd1b-abbc-4fee-9f7a-61b05287fb88",
   "metadata": {},
   "outputs": [
    {
     "name": "stdout",
     "output_type": "stream",
     "text": [
      "[0 1 2 3 4 5 6]\n",
      "Element wise remainder of divison :\n",
      "[0 1 0 1 0 1 0]\n"
     ]
    }
   ],
   "source": [
    "#Q24\n",
    "n1=np.arange(7)\n",
    "print(n1)\n",
    "print(\"Element wise remainder of divison :\")\n",
    "print(np.remainder(n1,2))"
   ]
  },
  {
   "cell_type": "code",
   "execution_count": 93,
   "id": "d831a32a-d6cd-40bd-b25c-c3ed28a3665b",
   "metadata": {},
   "outputs": [
    {
     "name": "stdout",
     "output_type": "stream",
     "text": [
      "[20 21 22 23 24 25 26 27 28 29 30 31 32 33 34 35 36 37 38 39 40 41 42 43\n",
      " 44 45 46 47 48 49]\n",
      "Element wise remainder of divison by 3 :\n",
      "[2 0 1 2 0 1 2 0 1 2 0 1 2 0 1 2 0 1 2 0 1 2 0 1 2 0 1 2 0 1]\n"
     ]
    }
   ],
   "source": [
    "#Q25\n",
    "n1=np.arange(20,50)\n",
    "print(n1)\n",
    "print(\"Element wise remainder of divison by 3 :\")\n",
    "print(np.remainder(n1,3))"
   ]
  },
  {
   "cell_type": "code",
   "execution_count": null,
   "id": "1a9b3569-1f97-4974-a454-1ec5e3b900f9",
   "metadata": {},
   "outputs": [],
   "source": []
  }
 ],
 "metadata": {
  "kernelspec": {
   "display_name": "Python 3 (ipykernel)",
   "language": "python",
   "name": "python3"
  },
  "language_info": {
   "codemirror_mode": {
    "name": "ipython",
    "version": 3
   },
   "file_extension": ".py",
   "mimetype": "text/x-python",
   "name": "python",
   "nbconvert_exporter": "python",
   "pygments_lexer": "ipython3",
   "version": "3.10.12"
  }
 },
 "nbformat": 4,
 "nbformat_minor": 5
}
